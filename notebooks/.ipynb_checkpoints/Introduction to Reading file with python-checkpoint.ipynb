{
 "cells": [
  {
   "cell_type": "markdown",
   "metadata": {},
   "source": [
    "# Enplore Python training introduction and making of a dataframe point\n",
    "\n",
    "### Why python\n",
    "[Why Python](http://www.data-analysis-in-python.org/why_python.html)\n",
    "\n",
    "[Why notebook](https://unidata.github.io/online-python-training/introduction.html)\n",
    "\n",
    "[Data Science Cookiecutter](http://drivendata.github.io/cookiecutter-data-science/)"
   ]
  },
  {
   "cell_type": "code",
   "execution_count": 4,
   "metadata": {},
   "outputs": [
    {
     "name": "stdout",
     "output_type": "stream",
     "text": [
      "Here is a good debugging or checking through the program for mydata.csv\n",
      "What is one_more_variable mydata.csv lets also check for my csv_file 1\n"
     ]
    }
   ],
   "source": [
    "# debugging / printing values\n",
    "csv_file_test_variable = 'mydata.csv'\n",
    "print('Here is a good debugging or checking through the program for {}'.format(csv_file_test_variable))\n",
    "\n",
    "# practical checking\n",
    "one_more_variable = 1\n",
    "print('What is one_more_variable {} lets also check for my csv_file {}'.format(csv_file_test_variable,one_more_variable))"
   ]
  },
  {
   "cell_type": "markdown",
   "metadata": {},
   "source": [
    "#### Example of Kaggle data\n",
    "[Kaggle flight-delays](https://www.kaggle.com/usdot/flight-delays)\n",
    "\n",
    "Download the dataset at https://www.kaggle.com/usdot/flight-delays/data"
   ]
  },
  {
   "cell_type": "code",
   "execution_count": 27,
   "metadata": {},
   "outputs": [],
   "source": [
    "# read of the secbysec data\n",
    "filepath = '../data/raw/flights.csv'\n",
    "import collections\n",
    "\n",
    "\n",
    "import pandas as pd"
   ]
  },
  {
   "cell_type": "markdown",
   "metadata": {},
   "source": [
    "##### Installation\n",
    "Windows - miniconda\n",
    "Conda - https://conda.io/miniconda.html\n",
    "\n",
    "##### Preparation\n",
    "```\n",
    "$ conda install numpy\n",
    "$ conda install ipython\n",
    "$ conda install jupyter\n",
    "```"
   ]
  },
  {
   "cell_type": "markdown",
   "metadata": {},
   "source": [
    "## Further Reading:\n",
    "[Idiomatic Python](https://www.amazon.com/Writing-Idiomatic-Python-Jeff-Knupp/dp/1482374811) - gentle introduction to good python syntax.\n",
    "Next step\n",
    "[Python for Data Analysis(https://www.amazon.com/Python-Data-Analysis-Wrangling-IPython/dp/1449319793)"
   ]
  }
 ],
 "metadata": {
  "kernelspec": {
   "display_name": "Python 3",
   "language": "python",
   "name": "python3"
  },
  "language_info": {
   "codemirror_mode": {
    "name": "ipython",
    "version": 3
   },
   "file_extension": ".py",
   "mimetype": "text/x-python",
   "name": "python",
   "nbconvert_exporter": "python",
   "pygments_lexer": "ipython3",
   "version": "3.6.1"
  }
 },
 "nbformat": 4,
 "nbformat_minor": 2
}
