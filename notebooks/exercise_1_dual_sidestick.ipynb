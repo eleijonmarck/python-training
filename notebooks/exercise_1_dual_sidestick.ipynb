{
 "cells": [
  {
   "cell_type": "markdown",
   "metadata": {},
   "source": [
    "# Exercise 1\n",
    "\n",
    "This exercise will be used to read in a file and setting logic to look for a specific pattern, in this case if the flight has used a dual sidestick input.\n",
    "\n",
    "- one file - sidestick_dual_input_altitude"
   ]
  },
  {
   "cell_type": "markdown",
   "metadata": {},
   "source": [
    "### Reading one file using the pandas library\n",
    "\n",
    "Specify the path via the variable within **''** to make it into a string.\n",
    "\n",
    "```python\n",
    "filepath = '../data/raw/2018-03-04--00_9V-SSH_A-330-1648_SIA_0930__e9caf21c-df80-4eb0-a4f4-9bfdbf0c1e15.csv'\n",
    "```\n",
    "\n",
    "Calling the pandas method for reading a csv.\n",
    "\n",
    "```python\n",
    "pd.read_csv(filepath, delimiter=',')\n",
    "```\n"
   ]
  },
  {
   "cell_type": "code",
   "execution_count": 2,
   "metadata": {},
   "outputs": [],
   "source": [
    "import pandas as pd\n",
    "\n",
    "# Specify the path via the variable within '' to make it into a string.\n",
    "filepath = '../data/raw/2018-03-04--00_9V-SSH_A-330-1648_SIA_0930__e9caf21c-df80-4eb0-a4f4-9bfdbf0c1e15.csv'\n",
    "\n",
    "# Calling the pandas method for reading a csv.\n",
    "flight_df = pd.read_csv(filepath)"
   ]
  },
  {
   "cell_type": "markdown",
   "metadata": {},
   "source": [
    "### For looping one of the columns of the read flight\n",
    "\n",
    "Frame and row comes from calling `iterrows` for the flight_df pandas object. This means that you are going through each row of the data in `row` and the frame is what row number. Meaning we loop through the frame number.\n",
    "\n",
    "```python\n",
    "for frame, row in flight_df.iterrows():\n",
    "```\n",
    "\n",
    "Here we can access any column within the row by specifying `row['column_name']`\n",
    "\n",
    "```python\n",
    "    if row['SIDESTICK_DUAL_INPUT_1'] == 1:\n",
    "```"
   ]
  },
  {
   "cell_type": "code",
   "execution_count": 11,
   "metadata": {},
   "outputs": [],
   "source": [
    "dual_input = 0\n",
    "# Frame and row comes from calling iterrows for the flight_df pandas object. This means that you are going through each row of the data in row and the frame is what row number. Meaning we loop through the frame number.\n",
    "for frame, row in flight_df.iterrows():\n",
    "    \n",
    "    # specify a varible to set for if the logic for that happens\n",
    "    dual_1 = 0\n",
    "    \n",
    "    # Here we can access any column within the row by specifying row['column_name']\n",
    "    if row['DUAL_SIDESTICK_INPUT_1'] == 1:\n",
    "        dual_1 = 1\n",
    "    \n",
    "    # if we had a dual_1 input\n",
    "    if dual_1 == 1:\n",
    "        \n",
    "        # set that dual input has happened\n",
    "        dual_input = 1\n",
    "        \n",
    "        # setting the frame_number_at_sidestick_dual_input\n",
    "        frame_number_at_sidestick_dual_input = frame\n",
    "        \n",
    "        # once the conditions are met within the for loop, we \"break\" the loop. Meaning we do not further go through the rows.\n",
    "        break"
   ]
  },
  {
   "cell_type": "markdown",
   "metadata": {},
   "source": [
    "## Defining a function to get the frame_number\n",
    "\n",
    "Defining a function. This enables us to call the function multiple times instead of running the same code all the time.\n",
    "```python\n",
    "def get_dual_input_frame_number(csv_data):\n",
    "```\n",
    "\n",
    "For a function, we need to always return something from the function\n",
    "```python\n",
    "return frame_number_at_dual_used\n",
    "```"
   ]
  },
  {
   "cell_type": "code",
   "execution_count": 18,
   "metadata": {},
   "outputs": [],
   "source": [
    "def get_dual_input_frame_number(csv_data):\n",
    "\n",
    "    dual_input = 0\n",
    "    # Frame and row comes from calling iterrows for the flight_df pandas object. This means that you are going through each row of the data in row and the frame is what row number. Meaning we loop through the frame number.\n",
    "    for frame, row in flight_df.iterrows():\n",
    "\n",
    "        # specify a varible to set for if the logic for that happens\n",
    "        dual_1 = 0\n",
    "\n",
    "        # Here we can access any column within the row by specifying row['column_name']\n",
    "        if row['DUAL_SIDESTICK_INPUT_1'] == 1:\n",
    "            dual_1 = 1\n",
    "\n",
    "        # if we had a dual_1 input\n",
    "        if dual_1 == 1:\n",
    "\n",
    "            # set that dual input has happened\n",
    "            dual_input = 1\n",
    "\n",
    "            # setting the frame_number_at_sidestick_dual_input\n",
    "            frame_number_at_dual_used = frame\n",
    "\n",
    "            # once the conditions are met within the for loop, we \"break\" the loop. Meaning we do not further go through the rows.\n",
    "            break\n",
    "            \n",
    "    # specify the return of the function. This means that when you call the function; this variable will be sent back from it.\n",
    "    return frame_number_at_dual_used"
   ]
  },
  {
   "cell_type": "markdown",
   "metadata": {},
   "source": [
    "# Defining a function to getting the sidestick_dual_input_altitude\n",
    "\n",
    "Defining a dictionary to be used for inputing values to save from the analysis\n",
    "```python\n",
    "output = {}\n",
    "```\n",
    "\n",
    "Calling the function get_dual_input_frame_number(csv_data)\n",
    "```python\n",
    "frame_number_at_dual_used = get_dual_input_frame_number(csv_data)\n",
    "```\n",
    "\n",
    "Getting the dual_input_altitude\n",
    "```python\n",
    "sidestick_dual_input_altitude = csv_data['ALTITUDE_STANDARD'][frame_number_at_dual_used]\n",
    "```"
   ]
  },
  {
   "cell_type": "code",
   "execution_count": 1,
   "metadata": {},
   "outputs": [],
   "source": [
    "def get_sidestick_dual_input_altitude(csv_data):\n",
    "    \n",
    "    # creating a dictionary {}\n",
    "    output = {}\n",
    "    \n",
    "    # calling the function `get_dual_input_frame_number(csv_data)` to get frame_number \n",
    "    frame_number_at_dual_used = get_dual_input_frame_number(csv_data)\n",
    "    \n",
    "    # we use the frame_number_at_dual_used to use for the csv_data['ALTITUDE_STANDARD']\n",
    "    # NOTE:\n",
    "    # getting the column and row value\n",
    "    # csv_data['column_name'][row_number]\n",
    "    sidestick_dual_input_altitude = csv_data['ALTITUDE_STANDARD'][frame_number_at_dual_used]\n",
    "        \n",
    "        \n",
    "    # save the frame_number key with the frame_number_at_dual_used - value\n",
    "    output['frame_number_at_dual_used'] = frame_number_at_dual_used\n",
    "    \n",
    "    # save the sidestick_dual_input_altitude key with the sidestick_dual_input_altitude - value\n",
    "    output['sidestick_dual_input_altitude'] = sidestick_dual_input_altitude\n",
    "    \n",
    "    return output"
   ]
  },
  {
   "cell_type": "code",
   "execution_count": 2,
   "metadata": {},
   "outputs": [
    {
     "ename": "NameError",
     "evalue": "name 'flight_df' is not defined",
     "output_type": "error",
     "traceback": [
      "\u001b[0;31m---------------------------------------------------------------------------\u001b[0m",
      "\u001b[0;31mNameError\u001b[0m                                 Traceback (most recent call last)",
      "\u001b[0;32m<ipython-input-2-f4485b069ecd>\u001b[0m in \u001b[0;36m<module>\u001b[0;34m()\u001b[0m\n\u001b[0;32m----> 1\u001b[0;31m \u001b[0mget_sidestick_dual_input_altitude\u001b[0m\u001b[0;34m(\u001b[0m\u001b[0mflight_df\u001b[0m\u001b[0;34m)\u001b[0m\u001b[0;34m\u001b[0m\u001b[0m\n\u001b[0m",
      "\u001b[0;31mNameError\u001b[0m: name 'flight_df' is not defined"
     ]
    }
   ],
   "source": [
    "get_sidestick_dual_input_altitude(flight_df)"
   ]
  },
  {
   "cell_type": "code",
   "execution_count": null,
   "metadata": {},
   "outputs": [],
   "source": []
  }
 ],
 "metadata": {
  "kernelspec": {
   "display_name": "Python 3",
   "language": "python",
   "name": "python3"
  },
  "language_info": {
   "codemirror_mode": {
    "name": "ipython",
    "version": 3
   },
   "file_extension": ".py",
   "mimetype": "text/x-python",
   "name": "python",
   "nbconvert_exporter": "python",
   "pygments_lexer": "ipython3",
   "version": "3.6.1"
  }
 },
 "nbformat": 4,
 "nbformat_minor": 2
}
