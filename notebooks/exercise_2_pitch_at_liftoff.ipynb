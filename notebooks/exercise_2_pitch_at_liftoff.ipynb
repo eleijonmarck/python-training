{
 "cells": [
  {
   "cell_type": "markdown",
   "metadata": {},
   "source": [
    "# Exercise 2\n",
    "- multiple files - pitch_at_liftoff\n",
    "\n",
    "Reading multiple files to extract pitch from multiple flights.\n",
    "In this exercise we will take out the pitch_at_liftoff from all the flights by specificing functions to be called in order called on each of the files found.\n",
    "\n"
   ]
  },
  {
   "cell_type": "markdown",
   "metadata": {},
   "source": [
    "### Reading multiple files using the os library\n",
    "\n",
    "Using the walk function which walks through a specific directory to give the folders, files for that specific case.\n",
    "```python\n",
    "import os\n",
    "for root, dirs, files in os.walk(directory):\n",
    "```\n",
    "Takes out the directories (folders) and all files within the repspective folder.\n"
   ]
  },
  {
   "cell_type": "code",
   "execution_count": 3,
   "metadata": {},
   "outputs": [],
   "source": [
    "import os\n",
    "\n",
    "def get_filenames_in_directory(directory):\n",
    "    rawfiles = []\n",
    "\n",
    "    # os.walk() function - https://www.tutorialspoint.com/python/os_walk.htm\n",
    "    for root, dirs, files in os.walk(directory):\n",
    "        for filename in files:\n",
    "            if '.csv' in filename:\n",
    "                rawfiles.append(filename)\n",
    "    return rawfiles"
   ]
  },
  {
   "cell_type": "code",
   "execution_count": 4,
   "metadata": {},
   "outputs": [],
   "source": [
    "raw_dir = '../data/raw/'\n",
    "rawfiles = get_filenames_in_directory(raw_dir)"
   ]
  },
  {
   "cell_type": "markdown",
   "metadata": {},
   "source": [
    "### Reading just one file to test the logic of our settings.\n",
    "\n",
    "In this case we specificy that by `rawfiles[0]`\n",
    "```python\n",
    "flight_df = pd.read_csv(raw_dir + rawfiles[0])\n",
    "```\n"
   ]
  },
  {
   "cell_type": "code",
   "execution_count": 5,
   "metadata": {},
   "outputs": [],
   "source": [
    "import pandas as pd\n",
    "\n",
    "# Calling the pandas method for reading a csv.\n",
    "flight_df = pd.read_csv(raw_dir + rawfiles[0])"
   ]
  },
  {
   "cell_type": "markdown",
   "metadata": {},
   "source": [
    "### Function for getting the pitch at liftoff, explaination of one of the lines\n",
    "\n",
    "\n",
    "For all the x > 30, when we loop through the values of `GROUND_SPEED for row i until i+3`.\n",
    "\n",
    "NOTE:  \n",
    "`csv_data['GROUND_SPEED'][0:3]`, will only consider the 0,1,2 frames.\n",
    "\n",
    "```python\n",
    "if all(x > 30 for x in csv_data['GROUND_SPEED'][i:i+3]):\n",
    "```"
   ]
  },
  {
   "cell_type": "code",
   "execution_count": 17,
   "metadata": {},
   "outputs": [],
   "source": [
    "# NOTE:\n",
    "# This is only a simplified version of pitch_at_liftoff. You can specify or try out however you would like.\n",
    "def get_frame_number_at_last_second_on_ground(csv_data):\n",
    "    # setting variable\n",
    "    frame_number_at_liftoff = 0\n",
    "\n",
    "    for i, _squat_nose in enumerate(csv_data['SQUAT_NOSE']):\n",
    "\n",
    "        # setting variables to be used in logic\n",
    "        have_liftoff = False\n",
    "        stable_gs = False\n",
    "        stable_pitch = False\n",
    "        nose_left_ground = False\n",
    "\n",
    "        # check ground speed > 30 for 3 secs\n",
    "        if 'GROUND_SPEED' in csv_data:\n",
    "            # check through all of the row values for ground speed 3 secs ahead\n",
    "            if all(x > 30 for x in csv_data['GROUND_SPEED'][i:i+3]):\n",
    "                stable_gs = True\n",
    "\n",
    "        # check pitch > 4 for 3 secs\n",
    "        if 'PITCH' in csv_data:\n",
    "            # check through all of the row values for pitch 3 secs ahead\n",
    "            if all(x > 4 for x in csv_data['PITCH'][i:i+3]):\n",
    "                stable_pitch = True\n",
    "\n",
    "        if 'SQUAT_NOSE' in csv_data:\n",
    "            # check if the squat has left the ground\n",
    "            if csv_data['SQUAT_NOSE'][i] == 0:\n",
    "                # now we know that the squat left the ground\n",
    "                nose_left_ground = True\n",
    "                \n",
    "        # setting a one line logic statement (preferably)\n",
    "        if nose_left_ground and (stable_gs or stable_pitch):\n",
    "            have_liftoff = True\n",
    "\n",
    "        # savign the frame at that value\n",
    "        if have_liftoff:\n",
    "            frame_number_at_liftoff = i\n",
    "            break\n",
    "\n",
    "    # we know when the flight has liftoff, so we will consider the frame just the second before.\n",
    "    return frame_number_at_liftoff - 1"
   ]
  },
  {
   "cell_type": "code",
   "execution_count": 18,
   "metadata": {},
   "outputs": [],
   "source": [
    "def get_pitch_at_liftoff(csv_data):\n",
    "    \n",
    "    # specify output dictionary\n",
    "    output = {}\n",
    "    \n",
    "    # get the frame_number for last_second\n",
    "    last_second_on_ground = get_frame_number_at_last_second_on_ground(csv_data)\n",
    "    \n",
    "    # loop through the pitches\n",
    "    pitches = []\n",
    "\n",
    "    for pitch_column in ['PITCH', 'PITCH_2', 'PITCH_3', 'PITCH_4']:\n",
    "        pitches.append(csv_data[pitch_column][last_second_on_ground])\n",
    "\n",
    "    # saving the output\n",
    "    output['pitch_at_liftoff'] = min(pitches)\n",
    "    output['frame_number_at_last_second_on_ground'] = last_second_on_ground\n",
    "    \n",
    "    return output"
   ]
  },
  {
   "cell_type": "code",
   "execution_count": 19,
   "metadata": {},
   "outputs": [
    {
     "data": {
      "text/plain": [
       "{'pitch_at_liftoff': 0.0, 'frame_number_at_last_second_on_ground': 798}"
      ]
     },
     "execution_count": 19,
     "metadata": {},
     "output_type": "execute_result"
    }
   ],
   "source": [
    "get_pitch_at_liftoff(flight_df)"
   ]
  },
  {
   "cell_type": "markdown",
   "metadata": {},
   "source": [
    "# Putting it all together\n",
    "\n",
    "0. Test with one file\n",
    "1. Getting the important frame_number\n",
    "2. From that frame_number, get the logic for getting values from that point\n",
    "3. If everything is in functions; we can apply that to all of the files in one directory."
   ]
  },
  {
   "cell_type": "code",
   "execution_count": 20,
   "metadata": {},
   "outputs": [
    {
     "data": {
      "text/plain": [
       "['2018-03-02--04_9V-SMP_A-350-122_SIA_0236__fda86edc-767f-4526-8433-e4e9751042cf.csv',\n",
       " '2018-03-04--00_9V-SSH_A-330-1648_SIA_0930__e9caf21c-df80-4eb0-a4f4-9bfdbf0c1e15.csv']"
      ]
     },
     "execution_count": 20,
     "metadata": {},
     "output_type": "execute_result"
    }
   ],
   "source": [
    "get_filenames_in_directory(raw_dir)"
   ]
  },
  {
   "cell_type": "markdown",
   "metadata": {},
   "source": [
    "### Using this filename directory function together with the function for creating output\n",
    "\n"
   ]
  },
  {
   "cell_type": "code",
   "execution_count": 21,
   "metadata": {},
   "outputs": [
    {
     "data": {
      "text/plain": [
       "[{'pitch_at_liftoff': 0.0, 'frame_number_at_last_second_on_ground': 798},\n",
       " {'pitch_at_liftoff': 8.0859375, 'frame_number_at_last_second_on_ground': 890}]"
      ]
     },
     "execution_count": 21,
     "metadata": {},
     "output_type": "execute_result"
    }
   ],
   "source": [
    "analysis_data = []\n",
    "\n",
    "for filename in get_filenames_in_directory(raw_dir):\n",
    "    # reading the flight\n",
    "    flight = pd.read_csv(raw_dir + filename)\n",
    "    \n",
    "    # getting pitch from the function\n",
    "    pitch_output = get_pitch_at_liftoff(flight)\n",
    "    \n",
    "    # appending that to a list (array) for further analysis\n",
    "    analysis_data.append(pitch_output)\n",
    "analysis_data"
   ]
  },
  {
   "cell_type": "markdown",
   "metadata": {},
   "source": [
    "# Further programming\n",
    "\n",
    "Using the analysis data into a dataframe. This is how you get the analysis output into another set of a dataframe for further investigation. As a way of doing further analysis"
   ]
  },
  {
   "cell_type": "code",
   "execution_count": 22,
   "metadata": {},
   "outputs": [
    {
     "data": {
      "text/html": [
       "<div>\n",
       "<style scoped>\n",
       "    .dataframe tbody tr th:only-of-type {\n",
       "        vertical-align: middle;\n",
       "    }\n",
       "\n",
       "    .dataframe tbody tr th {\n",
       "        vertical-align: top;\n",
       "    }\n",
       "\n",
       "    .dataframe thead th {\n",
       "        text-align: right;\n",
       "    }\n",
       "</style>\n",
       "<table border=\"1\" class=\"dataframe\">\n",
       "  <thead>\n",
       "    <tr style=\"text-align: right;\">\n",
       "      <th></th>\n",
       "      <th>frame_number_at_last_second_on_ground</th>\n",
       "      <th>pitch_at_liftoff</th>\n",
       "    </tr>\n",
       "  </thead>\n",
       "  <tbody>\n",
       "    <tr>\n",
       "      <th>0</th>\n",
       "      <td>798</td>\n",
       "      <td>0.000000</td>\n",
       "    </tr>\n",
       "    <tr>\n",
       "      <th>1</th>\n",
       "      <td>890</td>\n",
       "      <td>8.085938</td>\n",
       "    </tr>\n",
       "  </tbody>\n",
       "</table>\n",
       "</div>"
      ],
      "text/plain": [
       "   frame_number_at_last_second_on_ground  pitch_at_liftoff\n",
       "0                                    798          0.000000\n",
       "1                                    890          8.085938"
      ]
     },
     "execution_count": 22,
     "metadata": {},
     "output_type": "execute_result"
    }
   ],
   "source": [
    "analysis_df = pd.DataFrame.from_records(analysis_data)\n",
    "analysis_df"
   ]
  },
  {
   "cell_type": "markdown",
   "metadata": {},
   "source": [
    "A typical thing when looking at parameters is checking the statistics for all the values. This can be done via a simple method for pandas in `df.describe()`"
   ]
  },
  {
   "cell_type": "code",
   "execution_count": 23,
   "metadata": {},
   "outputs": [
    {
     "data": {
      "text/html": [
       "<div>\n",
       "<style scoped>\n",
       "    .dataframe tbody tr th:only-of-type {\n",
       "        vertical-align: middle;\n",
       "    }\n",
       "\n",
       "    .dataframe tbody tr th {\n",
       "        vertical-align: top;\n",
       "    }\n",
       "\n",
       "    .dataframe thead th {\n",
       "        text-align: right;\n",
       "    }\n",
       "</style>\n",
       "<table border=\"1\" class=\"dataframe\">\n",
       "  <thead>\n",
       "    <tr style=\"text-align: right;\">\n",
       "      <th></th>\n",
       "      <th>frame_number_at_last_second_on_ground</th>\n",
       "      <th>pitch_at_liftoff</th>\n",
       "    </tr>\n",
       "  </thead>\n",
       "  <tbody>\n",
       "    <tr>\n",
       "      <th>count</th>\n",
       "      <td>2.000000</td>\n",
       "      <td>2.000000</td>\n",
       "    </tr>\n",
       "    <tr>\n",
       "      <th>mean</th>\n",
       "      <td>844.000000</td>\n",
       "      <td>4.042969</td>\n",
       "    </tr>\n",
       "    <tr>\n",
       "      <th>std</th>\n",
       "      <td>65.053824</td>\n",
       "      <td>5.717621</td>\n",
       "    </tr>\n",
       "    <tr>\n",
       "      <th>min</th>\n",
       "      <td>798.000000</td>\n",
       "      <td>0.000000</td>\n",
       "    </tr>\n",
       "    <tr>\n",
       "      <th>25%</th>\n",
       "      <td>821.000000</td>\n",
       "      <td>2.021484</td>\n",
       "    </tr>\n",
       "    <tr>\n",
       "      <th>50%</th>\n",
       "      <td>844.000000</td>\n",
       "      <td>4.042969</td>\n",
       "    </tr>\n",
       "    <tr>\n",
       "      <th>75%</th>\n",
       "      <td>867.000000</td>\n",
       "      <td>6.064453</td>\n",
       "    </tr>\n",
       "    <tr>\n",
       "      <th>max</th>\n",
       "      <td>890.000000</td>\n",
       "      <td>8.085938</td>\n",
       "    </tr>\n",
       "  </tbody>\n",
       "</table>\n",
       "</div>"
      ],
      "text/plain": [
       "       frame_number_at_last_second_on_ground  pitch_at_liftoff\n",
       "count                               2.000000          2.000000\n",
       "mean                              844.000000          4.042969\n",
       "std                                65.053824          5.717621\n",
       "min                               798.000000          0.000000\n",
       "25%                               821.000000          2.021484\n",
       "50%                               844.000000          4.042969\n",
       "75%                               867.000000          6.064453\n",
       "max                               890.000000          8.085938"
      ]
     },
     "execution_count": 23,
     "metadata": {},
     "output_type": "execute_result"
    }
   ],
   "source": [
    "analysis_df.describe()"
   ]
  },
  {
   "cell_type": "code",
   "execution_count": null,
   "metadata": {},
   "outputs": [],
   "source": []
  }
 ],
 "metadata": {
  "kernelspec": {
   "display_name": "Python 3",
   "language": "python",
   "name": "python3"
  },
  "language_info": {
   "codemirror_mode": {
    "name": "ipython",
    "version": 3
   },
   "file_extension": ".py",
   "mimetype": "text/x-python",
   "name": "python",
   "nbconvert_exporter": "python",
   "pygments_lexer": "ipython3",
   "version": "3.6.1"
  }
 },
 "nbformat": 4,
 "nbformat_minor": 2
}
